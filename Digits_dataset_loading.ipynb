{
 "cells": [
  {
   "cell_type": "markdown",
   "id": "89692465",
   "metadata": {},
   "source": [
    "Ai:simulation of human intelligence in machine that are programmed to think like humans and mimic their actions\n",
    "ML: Computer algorithms which can be trined for specific application and used for future predictions\n",
    "DL: High level version of Machine learning which uses artificial Neutral networks as trainable algo."
   ]
  },
  {
   "cell_type": "code",
   "execution_count": 6,
   "id": "355b0de6",
   "metadata": {},
   "outputs": [],
   "source": [
    "from sklearn.datasets import load_digits\n",
    "df=load_digits()\n",
    "data=df.data\n",
    "target=df.target\n",
    "images=df.images"
   ]
  },
  {
   "cell_type": "code",
   "execution_count": 7,
   "id": "7220aeba",
   "metadata": {},
   "outputs": [
    {
     "data": {
      "text/plain": [
       "(1797, 8, 8)"
      ]
     },
     "execution_count": 7,
     "metadata": {},
     "output_type": "execute_result"
    }
   ],
   "source": [
    "data.shape\n",
    "target.shape\n",
    "images.shape"
   ]
  },
  {
   "cell_type": "code",
   "execution_count": 16,
   "id": "ae889318",
   "metadata": {},
   "outputs": [
    {
     "data": {
      "text/plain": [
       "<matplotlib.image.AxesImage at 0x7fa7e9c9fbe0>"
      ]
     },
     "execution_count": 16,
     "metadata": {},
     "output_type": "execute_result"
    },
    {
     "data": {
      "image/png": "[encoded data removed]",
      "text/plain": [
       "<Figure size 640x480 with 1 Axes>"
      ]
     },
     "metadata": {},
     "output_type": "display_data"
    }
   ],
   "source": [
    "from matplotlib import pyplot as plt\n",
    "plt.imshow(images[200],cmap='Reds')"
   ]
  },
  {
   "cell_type": "code",
   "execution_count": 18,
   "id": "f57c9b51",
   "metadata": {},
   "outputs": [
    {
     "data": {
      "text/plain": [
       "<matplotlib.image.AxesImage at 0x7fa7c8079160>"
      ]
     },
     "execution_count": 18,
     "metadata": {},
     "output_type": "execute_result"
    },
    {
     "data": {
      "image/png": "[encoded data removed]",
      "text/plain": [
       "<Figure size 640x480 with 1 Axes>"
      ]
     },
     "metadata": {},
     "output_type": "display_data"
    }
   ],
   "source": [
    "plt.imshow(data[1000].reshape(1,64),cmap=\"Blues\")"
   ]
  },
  {
   "cell_type": "code",
   "execution_count": 19,
   "id": "7bc645e5",
   "metadata": {},
   "outputs": [
    {
     "name": "stdout",
     "output_type": "stream",
     "text": [
      "[[ 0.  0.  0.  2. 13.  0.  0.  0.]\n",
      " [ 0.  0.  0.  8. 15.  0.  0.  0.]\n",
      " [ 0.  0.  5. 16.  5.  2.  0.  0.]\n",
      " [ 0.  0. 15. 12.  1. 16.  4.  0.]\n",
      " [ 0.  4. 16.  2.  9. 16.  8.  0.]\n",
      " [ 0.  0. 10. 14. 16. 16.  4.  0.]\n",
      " [ 0.  0.  0.  0. 13.  8.  0.  0.]\n",
      " [ 0.  0.  0.  0. 13.  6.  0.  0.]]\n"
     ]
    }
   ],
   "source": [
    "print(images[100])"
   ]
  },
  {
   "cell_type": "code",
   "execution_count": 20,
   "id": "9db56882",
   "metadata": {},
   "outputs": [
    {
     "data": {
      "text/plain": [
       "array([ 0.,  0.,  1., 14.,  2.,  0.,  0.,  0.,  0.,  0.,  0., 16.,  5.,\n",
       "        0.,  0.,  0.,  0.,  0.,  0., 14., 10.,  0.,  0.,  0.,  0.,  0.,\n",
       "        0., 11., 16.,  1.,  0.,  0.,  0.,  0.,  0.,  3., 14.,  6.,  0.,\n",
       "        0.,  0.,  0.,  0.,  0.,  8., 12.,  0.,  0.,  0.,  0., 10., 14.,\n",
       "       13., 16.,  8.,  3.,  0.,  0.,  2., 11., 12., 15., 16., 15.])"
      ]
     },
     "execution_count": 20,
     "metadata": {},
     "output_type": "execute_result"
    }
   ],
   "source": [
    "data[1000]"
   ]
  },
  {
   "cell_type": "code",
   "execution_count": 22,
   "id": "6fabe840",
   "metadata": {},
   "outputs": [],
   "source": [
    "from sklearn.model_selection import train_test_split\n",
    "X_train,X_test,y_train,y_test=train_test_split(data,target,test_size=0.2)"
   ]
  },
  {
   "cell_type": "code",
   "execution_count": 24,
   "id": "3e139f9f",
   "metadata": {},
   "outputs": [],
   "source": [
    "from sklearn.neighbors import KNeighborsClassifier"
   ]
  },
  {
   "cell_type": "code",
   "execution_count": 25,
   "id": "e49521da",
   "metadata": {},
   "outputs": [],
   "source": [
    "m=KNeighborsClassifier()"
   ]
  },
  {
   "cell_type": "code",
   "execution_count": 26,
   "id": "d15ae0cb",
   "metadata": {},
   "outputs": [
    {
     "data": {
      "text/plain": [
       "KNeighborsClassifier()"
      ]
     },
     "execution_count": 26,
     "metadata": {},
     "output_type": "execute_result"
    }
   ],
   "source": [
    "m.fit(X_train,y_train)"
   ]
  },
  {
   "cell_type": "code",
   "execution_count": 27,
   "id": "5d2f16be",
   "metadata": {},
   "outputs": [
    {
     "name": "stderr",
     "output_type": "stream",
     "text": [
      "/Users/arunkumarrana/opt/anaconda3/lib/python3.9/site-packages/sklearn/neighbors/_classification.py:228: FutureWarning: Unlike other reduction functions (e.g. `skew`, `kurtosis`), the default behavior of `mode` typically preserves the axis it acts along. In SciPy 1.11.0, this behavior will change: the default value of `keepdims` will become False, the `axis` over which the statistic is taken will be eliminated, and the value None will no longer be accepted. Set `keepdims` to True or False to avoid this warning.\n",
      "  mode, _ = stats.mode(_y[neigh_ind, k], axis=1)\n"
     ]
    }
   ],
   "source": [
    "predicted_target=m.predict(X_test)"
   ]
  },
  {
   "cell_type": "code",
   "execution_count": 30,
   "id": "4f7b35f8",
   "metadata": {},
   "outputs": [],
   "source": [
    "from sklearn.metrics import accuracy_score\n",
    "acc=accuracy_score(predicted_target,y_test)"
   ]
  },
  {
   "cell_type": "code",
   "execution_count": 36,
   "id": "8fc453eb",
   "metadata": {},
   "outputs": [
    {
     "name": "stdout",
     "output_type": "stream",
     "text": [
      "accuracy percentage 99.44444444444444\n"
     ]
    }
   ],
   "source": [
    "print(\"accuracy percentage\",acc*100)"
   ]
  },
  {
   "cell_type": "code",
   "execution_count": 35,
   "id": "4c31bd77",
   "metadata": {},
   "outputs": [
    {
     "name": "stdout",
     "output_type": "stream",
     "text": [
      "predicted_Digits [2 3 8 3 7 5 0 1 3 1 5 0 1 6 4 6 6 0 2 9 1 1 0 6 7 2 5 0 1 9 2 7 4 6 9 0 4\n",
      " 6 2 1 1 5 6 3 1 2 9 3 0 0 5 8 0 4 5 3 5 5 4 3 1 0 4 3 5 5 5 9 4 4 0 4 9 4\n",
      " 3 3 8 4 3 8 9 0 8 1 5 8 4 2 3 1 0 5 5 2 5 5 4 6 6 9 6 3 8 7 8 4 3 8 8 4 9\n",
      " 1 8 0 8 4 7 9 5 6 9 7 3 1 1 2 4 1 5 0 4 8 8 9 5 1 7 6 8 0 7 4 6 1 4 1 1 7\n",
      " 3 5 5 0 6 9 5 6 4 3 3 6 9 6 2 1 6 0 1 7 6 5 0 9 9 9 1 2 9 1 5 1 0 2 7 4 0\n",
      " 0 3 8 7 0 1 3 6 8 4 2 6 7 9 8 4 5 5 2 4 2 5 1 7 5 3 7 7 0 4 9 7 8 6 2 3 1\n",
      " 4 3 4 0 0 5 1 9 3 3 2 9 5 2 7 8 1 9 0 0 1 4 1 1 6 6 0 6 8 9 0 9 0 8 9 1 8\n",
      " 3 2 5 7 4 1 1 2 9 1 2 7 6 7 8 8 9 1 6 8 6 4 0 8 4 6 2 5 7 2 4 3 2 5 1 8 3\n",
      " 5 0 0 1 8 1 5 7 3 9 0 1 8 0 8 7 3 3 1 5 7 3 2 4 7 2 3 2 1 6 6 9 2 1 9 7 9\n",
      " 0 8 3 3 5 2 4 9 4 9 3 8 1 2 7 8 6 1 5 9 8 4 1 0 2 7 9]\n",
      "Actual Digits [2 3 8 3 7 5 0 1 3 1 5 0 1 6 4 6 6 0 2 9 1 1 0 6 7 2 5 0 1 9 2 7 4 6 9 0 4\n",
      " 6 2 1 1 5 6 3 1 2 9 3 0 0 5 8 0 4 5 3 5 5 4 3 1 0 4 3 5 5 5 9 4 4 0 4 9 4\n",
      " 3 3 8 4 3 8 9 0 8 1 5 8 4 2 3 1 0 5 5 2 5 5 4 6 6 9 6 3 8 7 8 4 3 8 8 4 9\n",
      " 8 8 0 8 4 7 9 5 6 9 7 3 1 1 2 4 1 5 0 4 8 8 9 5 1 7 6 8 0 7 4 6 1 4 1 1 7\n",
      " 3 5 5 0 6 9 5 6 4 3 3 6 9 6 2 1 6 0 1 7 6 5 0 9 9 9 1 2 9 1 5 1 0 2 7 4 0\n",
      " 0 3 8 7 0 1 3 6 8 4 2 6 7 9 8 4 5 5 2 4 2 5 1 7 5 3 7 7 0 4 9 7 8 6 2 3 1\n",
      " 4 3 4 0 0 5 1 9 3 3 2 9 5 2 7 8 1 9 0 0 1 4 1 1 6 6 0 6 8 9 0 9 0 8 9 1 8\n",
      " 3 2 5 7 4 1 1 2 9 1 2 7 6 7 8 8 9 1 6 8 6 4 0 8 4 6 2 5 7 2 4 3 2 5 1 8 3\n",
      " 5 0 0 1 8 1 5 7 3 9 0 1 8 0 8 7 3 3 1 5 7 3 2 4 7 2 3 2 1 6 6 9 2 1 9 7 9\n",
      " 0 8 9 3 5 2 4 9 4 9 3 8 1 2 7 8 6 1 5 9 8 4 1 0 2 7 9]\n"
     ]
    }
   ],
   "source": [
    "print(\"predicted_Digits\",predicted_target)\n",
    "print(\"Actual Digits\",y_test)"
   ]
  }
 ],
 "metadata": {
  "kernelspec": {
   "display_name": "Python 3 (ipykernel)",
   "language": "python",
   "name": "python3"
  },
  "language_info": {
   "codemirror_mode": {
    "name": "ipython",
    "version": 3
   },
   "file_extension": ".py",
   "mimetype": "text/x-python",
   "name": "python",
   "nbconvert_exporter": "python",
   "pygments_lexer": "ipython3",
   "version": "3.9.13"
  }
 },
 "nbformat": 4,
 "nbformat_minor": 5
}
